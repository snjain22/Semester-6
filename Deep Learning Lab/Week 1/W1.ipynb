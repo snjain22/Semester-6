{
 "cells": [
  {
   "cell_type": "markdown",
   "metadata": {},
   "source": [
    "# <b>Introduction to Tensors<b>\n",
    "### Deep Learning Lab - Week 1\n",
    "\n",
    "#### Author: Sambhav Jain\n",
    "#### Date: 9 January 2025 @ 9:30AM\n",
    "\n",
    "<font size=0.5>Lab was held on Friday, 3 January 2025 and has been repeated on the 9th of January</font>"
   ]
  },
  {
   "cell_type": "markdown",
   "metadata": {},
   "source": [
    "Q1. Squeeze, Unsqueeze, View, Stack, Reshape Tensors   "
   ]
  },
  {
   "cell_type": "code",
   "execution_count": 12,
   "metadata": {},
   "outputs": [],
   "source": [
    "import torch"
   ]
  },
  {
   "cell_type": "code",
   "execution_count": 18,
   "metadata": {},
   "outputs": [
    {
     "name": "stdout",
     "output_type": "stream",
     "text": [
      "True\n"
     ]
    },
    {
     "data": {
      "text/plain": [
       "'cuda'"
      ]
     },
     "execution_count": 18,
     "metadata": {},
     "output_type": "execute_result"
    }
   ],
   "source": [
    "print(torch.cuda.is_available())\n",
    "\n",
    "device = \"cuda\" if torch.cuda.is_available() else \"cpu\"\n",
    "device "
   ]
  },
  {
   "cell_type": "code",
   "execution_count": 62,
   "metadata": {},
   "outputs": [
    {
     "name": "stdout",
     "output_type": "stream",
     "text": [
      "tensor([0, 1, 2, 3, 4, 5, 6, 7, 8])\n",
      "\n",
      "tensor([[0, 1, 2],\n",
      "        [3, 4, 5],\n",
      "        [6, 7, 8]])\n",
      "\n",
      "tensor([[0, 1, 2],\n",
      "        [3, 4, 5],\n",
      "        [6, 7, 8]])\n",
      "\n",
      "tensor([[1, 2],\n",
      "        [3, 4]])\n",
      "\n",
      "tensor([[[0., 0., 0.],\n",
      "         [0., 0., 0.]]]) torch.Size([1, 2, 3])\n",
      "\n",
      "tensor([[0., 0., 0.],\n",
      "        [0., 0., 0.]])\n",
      "\n",
      "tensor([[1, 2]])\n"
     ]
    }
   ],
   "source": [
    "tensor = torch.arange(9)\n",
    "print(tensor)\n",
    "print()\n",
    "\n",
    "# reshaping a tensor to a 3x3 matrix\n",
    "reshaped_tensor = torch.reshape(tensor, (3, 3))\n",
    "print(reshaped_tensor)\n",
    "print()\n",
    "\n",
    "# viewing a tensor (creating a new view of the same data without copying it)\n",
    "view_tensor = tensor.view(3, 3)\n",
    "print(view_tensor)\n",
    "print()\n",
    "\n",
    "# stacking 2 tensors along a new dimension (dim=0, creating a 2x2 tensor)\n",
    "tensor_1 = torch.tensor([1, 2])\n",
    "tensor_2 = torch.tensor([3, 4])\n",
    "stacked_tensor = torch.stack([tensor_1, tensor_2], dim=0)\n",
    "print(stacked_tensor)\n",
    "print()\n",
    "\n",
    "# squeezing a tensor (removes dimensions with size 1)\n",
    "new_tensor = torch.zeros(1, 2, 3)  # tensor with shape (1, 2, 3)\n",
    "print(new_tensor, new_tensor.size())\n",
    "print()\n",
    "squeeze_tensor = torch.squeeze(new_tensor, dim=0)  # removes the dimension with size 1 at index 0\n",
    "print(squeeze_tensor)\n",
    "print()\n",
    "\n",
    "# unsqueezing a tensor (adds a new dimension with size 1 at the specified index)\n",
    "unsqueeze_tensor = torch.unsqueeze(tensor_1, dim=0)  # adds a new dimension at index 0\n",
    "print(unsqueeze_tensor)"
   ]
  },
  {
   "cell_type": "code",
   "execution_count": 14,
   "metadata": {},
   "outputs": [
    {
     "name": "stdout",
     "output_type": "stream",
     "text": [
      "Tensor:  tensor([[1, 2, 3, 4],\n",
      "        [5, 6, 7, 8]])\n",
      "Tensor Shape:  torch.Size([2, 4])\n",
      "Reshaped Tensor:  tensor([[1, 2],\n",
      "        [3, 4],\n",
      "        [5, 6],\n",
      "        [7, 8]])\n",
      "Stacked Tensor:  tensor([[[11, 12],\n",
      "         [ 1,  5]],\n",
      "\n",
      "        [[13, 14],\n",
      "         [ 2,  6]],\n",
      "\n",
      "        [[15, 16],\n",
      "         [ 3,  7]],\n",
      "\n",
      "        [[17, 18],\n",
      "         [ 4,  8]]])\n"
     ]
    }
   ],
   "source": [
    "# # Creating a Tensor\n",
    "# t = torch.tensor([[1,2,3,4],[5,6,7,8]])\n",
    "# t1 = torch.tensor([[11,12],[13,14],[15,16],[17,18]])\n",
    "# print(\"Tensor: \",t)\n",
    "# print(\"Tensor Shape: \", t.size())\n",
    "\n",
    "# # Reshaping Tensor\n",
    "# print(\"Reshaped Tensor: \",t.reshape(4,2))\n",
    "\n",
    "# # Stacking Tensors\n",
    "# print(\"Stacked Tensor: \",torch.stack([t1, torch.transpose(t,1,0)],dim=1))"
   ]
  },
  {
   "cell_type": "markdown",
   "metadata": {},
   "source": [
    "Q2. Demonstrate permute() "
   ]
  },
  {
   "cell_type": "code",
   "execution_count": 64,
   "metadata": {},
   "outputs": [
    {
     "name": "stdout",
     "output_type": "stream",
     "text": [
      "original tensor dimensions:  torch.Size([1, 3, 5])\n",
      "permuted tensor dimensions:  torch.Size([3, 1, 5])\n"
     ]
    }
   ],
   "source": [
    "original = torch.randn(1, 3, 5)\n",
    "print(f\"original tensor dimensions:  {original.shape}\")\n",
    "\n",
    "# This swaps axes 0 and 1.\n",
    "# the new shape becomes (3, 1, 5)\n",
    "permuted = original.permute(1, 0, 2)\n",
    "print(f\"permuted tensor dimensions:  {permuted.shape}\")"
   ]
  },
  {
   "cell_type": "markdown",
   "metadata": {},
   "source": [
    "Q3. Indexing in Tensors"
   ]
  },
  {
   "cell_type": "code",
   "execution_count": 67,
   "metadata": {},
   "outputs": [
    {
     "name": "stdout",
     "output_type": "stream",
     "text": [
      "tensor([0.2816, 0.6679, 0.7878, 0.5070, 0.3055])\n",
      "tensor(0.3055)\n",
      "tensor(0.3055)\n",
      "tensor([0.6679, 0.5070, 0.3055])\n"
     ]
    }
   ],
   "source": [
    "tensor = torch.rand(5)\n",
    "print(tensor)\n",
    "\n",
    "# element at index 4 (5th element) of the tensor\n",
    "print(tensor[4])\n",
    "\n",
    "# accessing the last element \n",
    "print(tensor[-1])\n",
    "\n",
    "# accessing elements at indices 1, 3, and 4\n",
    "print(tensor[[1, 3, 4]])"
   ]
  },
  {
   "cell_type": "markdown",
   "metadata": {},
   "source": [
    "Q4. Numpy <-> Tensors Conversion"
   ]
  },
  {
   "cell_type": "code",
   "execution_count": 63,
   "metadata": {},
   "outputs": [
    {
     "name": "stdout",
     "output_type": "stream",
     "text": [
      "Numpy Array:  [[1 2 3 4]\n",
      " [5 6 7 8]]\n",
      "PyTorch Tensor:  tensor([[1, 2, 3, 4],\n",
      "        [5, 6, 7, 8]])\n"
     ]
    }
   ],
   "source": [
    "t = torch.tensor([[1,2,3,4],[5,6,7,8]])\n",
    "t1 = torch.tensor([[11,12],[13,14],[15,16],[17,18]])\n",
    "\n",
    "npT = t.numpy()\n",
    "\n",
    "print(\"Numpy Array: \", npT)\n",
    "\n",
    "pyTtensor = torch.from_numpy(npT)\n",
    "print(\"PyTorch Tensor: \", pyTtensor)"
   ]
  },
  {
   "cell_type": "markdown",
   "metadata": {},
   "source": [
    "Q5. Random Tensor with 7,7 shape"
   ]
  },
  {
   "cell_type": "code",
   "execution_count": 16,
   "metadata": {},
   "outputs": [
    {
     "name": "stdout",
     "output_type": "stream",
     "text": [
      "Random Tensor:  tensor([[-1.4268,  0.2472, -1.0552, -1.2551, -0.0147,  0.9517,  0.0883],\n",
      "        [-0.5338, -1.1770,  1.4360, -0.7218, -0.1743,  0.0325, -0.4588],\n",
      "        [ 0.7765, -0.7703, -0.1804, -0.5596, -0.3212, -0.0074, -2.3763],\n",
      "        [-0.3617, -0.9903, -2.4624, -0.0425, -0.4172,  0.1501,  0.9069],\n",
      "        [ 1.0727, -0.8715,  1.1657,  1.3334, -0.6850, -0.3945,  1.6860],\n",
      "        [-1.1309,  2.1067,  1.4360, -0.1509,  1.9820, -0.1197,  0.3296],\n",
      "        [ 0.0972,  1.1556,  0.3890,  1.4442,  0.7443, -2.2397,  0.4780]]) \n",
      " torch.Size([7, 7])\n"
     ]
    }
   ],
   "source": [
    "ranT = torch.randn(size=(7,7))\n",
    "print(\"Random Tensor: \", ranT, '\\n' ,ranT.size())"
   ]
  },
  {
   "cell_type": "markdown",
   "metadata": {},
   "source": [
    "Q6. Matrix Multiplication between previously defined tensor and a new (1,7) tensor."
   ]
  },
  {
   "cell_type": "code",
   "execution_count": 17,
   "metadata": {},
   "outputs": [
    {
     "name": "stdout",
     "output_type": "stream",
     "text": [
      "tensor([[-0.3765],\n",
      "        [-0.5213],\n",
      "        [ 1.3634],\n",
      "        [-2.8580],\n",
      "        [-1.7691],\n",
      "        [ 1.8861],\n",
      "        [ 1.0618]])\n",
      "tensor([[-0.3765],\n",
      "        [-0.5213],\n",
      "        [ 1.3634],\n",
      "        [-2.8580],\n",
      "        [-1.7691],\n",
      "        [ 1.8861],\n",
      "        [ 1.0618]])\n",
      "tensor([[-0.3232,  0.0560, -0.2390, -0.2843, -0.0033,  0.2156,  0.0200],\n",
      "        [-0.6943, -1.5309,  1.8677, -0.9388, -0.2267,  0.0422, -0.5967],\n",
      "        [ 0.2828, -0.2806, -0.0657, -0.2038, -0.1170, -0.0027, -0.8656],\n",
      "        [ 0.0753,  0.2060,  0.5123,  0.0088,  0.0868, -0.0312, -0.1887],\n",
      "        [-0.4867,  0.3954, -0.5288, -0.6049,  0.3108,  0.1790, -0.7649],\n",
      "        [ 0.2190, -0.4080, -0.2781,  0.0292, -0.3839,  0.0232, -0.0638],\n",
      "        [-0.0814, -0.9685, -0.3260, -1.2103, -0.6237,  1.8770, -0.4006]])\n"
     ]
    }
   ],
   "source": [
    "tensor6 = torch.randn((1,7))\n",
    "\n",
    "# Regular Matrix Multiplication\n",
    "print(ranT @ torch.transpose(tensor6,1,0))\n",
    "#                                     Tensor, dim0, dim1\n",
    "print(torch.matmul(ranT,torch.transpose(tensor6,1,0)))\n",
    "\n",
    "# EXTRA: Element-wise Matrix Multiplication\n",
    "print(ranT * torch.transpose(tensor6,1,0))"
   ]
  },
  {
   "cell_type": "markdown",
   "metadata": {},
   "source": [
    "Q7. Create 2 random tensors of (2,3) shape and send them to the GPU"
   ]
  },
  {
   "cell_type": "code",
   "execution_count": 23,
   "metadata": {},
   "outputs": [
    {
     "name": "stdout",
     "output_type": "stream",
     "text": [
      "tensor([[ 1.4820,  0.7286, -0.2261],\n",
      "        [ 1.4599,  0.6856,  0.7849]], device='cuda:0')\n",
      "tensor([[ 0.0910, -0.3467,  1.7950],\n",
      "        [ 0.5767,  0.2679,  0.1201]], device='cuda:0')\n"
     ]
    }
   ],
   "source": [
    "tensorGPU1 = torch.randn(size=(2,3))\n",
    "tensorGPU2 = torch.randn(size=(2,3))\n",
    "\n",
    "print(tensorGPU1.to(device))\n",
    "print(tensorGPU2.to(device))"
   ]
  },
  {
   "cell_type": "markdown",
   "metadata": {},
   "source": [
    "Q8. Perform Matrix Multiplication on Tensors in Question 7."
   ]
  },
  {
   "cell_type": "code",
   "execution_count": 27,
   "metadata": {},
   "outputs": [
    {
     "name": "stdout",
     "output_type": "stream",
     "text": [
      "tensor([[ 1.3822, -0.1208],\n",
      "        [ 1.5738, -0.0165]], device='cuda:0')\n"
     ]
    }
   ],
   "source": [
    "result = torch.matmul(tensorGPU1, tensorGPU2.reshape((3,2))).to(device)\n",
    "print(result)"
   ]
  },
  {
   "cell_type": "markdown",
   "metadata": {},
   "source": [
    "Q9. Max and Minimum values of Output of 8."
   ]
  },
  {
   "cell_type": "code",
   "execution_count": 28,
   "metadata": {},
   "outputs": [
    {
     "name": "stdout",
     "output_type": "stream",
     "text": [
      "Max:  tensor(1.5738, device='cuda:0')\n",
      "Min:  tensor(-0.1208, device='cuda:0')\n"
     ]
    }
   ],
   "source": [
    "print(\"Max Value: \",torch.max(result))\n",
    "print(\"Min Value: \",torch.min(result))"
   ]
  },
  {
   "cell_type": "markdown",
   "metadata": {},
   "source": [
    "Q10. Max and Minimum values of INDICES of Output of 8."
   ]
  },
  {
   "cell_type": "code",
   "execution_count": 29,
   "metadata": {},
   "outputs": [
    {
     "name": "stdout",
     "output_type": "stream",
     "text": [
      "Max Index Value:  tensor(2, device='cuda:0')\n",
      "Min Index Value:  tensor(1, device='cuda:0')\n"
     ]
    }
   ],
   "source": [
    "print(\"Max Index Value: \",torch.argmax(result))\n",
    "print(\"Min Index Value: \",torch.argmin(result))"
   ]
  },
  {
   "cell_type": "markdown",
   "metadata": {},
   "source": [
    "Q11. Make a random tensor with shape (1, 1, 1, 10) and then create a new tensor with all the 1\n",
    "dimensions removed to be left with a tensor of shape (10). Set the seed to 7 when you\n",
    "create it and print out the first tensor and it's shape as well as the second tensor and it's\n",
    "shape."
   ]
  },
  {
   "cell_type": "code",
   "execution_count": 60,
   "metadata": {},
   "outputs": [
    {
     "name": "stdout",
     "output_type": "stream",
     "text": [
      "Original Tensor:  tensor([[[[-0.1468,  0.7861,  0.9468, -1.1143,  1.6908, -0.8948, -0.3556,\n",
      "            1.2324,  0.1382, -1.6822]]]])\n",
      "Original Tensor Shape:  torch.Size([1, 1, 1, 10])\n",
      "\n",
      "Squeezed Tensor:  tensor([-0.1468,  0.7861,  0.9468, -1.1143,  1.6908, -0.8948, -0.3556,  1.2324,\n",
      "         0.1382, -1.6822])\n",
      "Squeezed Tensor Shape:  torch.Size([10])\n"
     ]
    }
   ],
   "source": [
    "# Creating Random Tensor\n",
    "torch.manual_seed(7)\n",
    "\n",
    "randomTensor = torch.randn(size=(1,1,1,10))\n",
    "print(\"Original Tensor: \", randomTensor)\n",
    "print(\"Original Tensor Shape: \", randomTensor.size())\n",
    "print()\n",
    "# Remove the 1 Dimensions using the SQUEEZE Function\n",
    "squeezed = torch.squeeze(randomTensor)\n",
    "print(\"Squeezed Tensor: \", squeezed)\n",
    "print(\"Squeezed Tensor Shape: \", squeezed.size())\n"
   ]
  }
 ],
 "metadata": {
  "kernelspec": {
   "display_name": "DLLab25",
   "language": "python",
   "name": "python3"
  },
  "language_info": {
   "codemirror_mode": {
    "name": "ipython",
    "version": 3
   },
   "file_extension": ".py",
   "mimetype": "text/x-python",
   "name": "python",
   "nbconvert_exporter": "python",
   "pygments_lexer": "ipython3",
   "version": "3.10.6"
  }
 },
 "nbformat": 4,
 "nbformat_minor": 2
}
